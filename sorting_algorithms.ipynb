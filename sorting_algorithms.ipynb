{
 "cells": [
  {
   "cell_type": "code",
   "execution_count": 1,
   "metadata": {},
   "outputs": [],
   "source": [
    "import random\n",
    "import heapq\n",
    "\n",
    "\n",
    "def quickSort(nums):\n",
    "    if len(nums) <= 1:\n",
    "        return nums\n",
    "    pivot = random.choice(nums)\n",
    "    left, equal, right = [], [], []\n",
    "    for num in nums:\n",
    "        if num < pivot:\n",
    "            left.append(num)\n",
    "        elif num > pivot:\n",
    "            right.append(num)\n",
    "        else:\n",
    "            equal.append(num)\n",
    "    return quickSort(left) + equal + quickSort(right)\n",
    "        \n",
    "def mergeSort(nums):\n",
    "    if len(nums) <= 1:\n",
    "        return nums\n",
    "    l, r = mergeSort(nums[:len(nums)//2]), mergeSort(nums[len(nums)//2:])\n",
    "    i, j, l_length, r_length, res = 0, 0, len(l), len(r), []\n",
    "    while i < l_length or j < r_length:\n",
    "        if i < l_length and j < r_length:\n",
    "            if l[i] <= r[j]:\n",
    "                res.append(l[i])\n",
    "                i = i + 1\n",
    "            else:\n",
    "                res.append(r[j])\n",
    "                j = j + 1\n",
    "        elif i < l_length:\n",
    "            res.append(l[i])\n",
    "            i = i + 1\n",
    "        else:\n",
    "            res.append(r[j])\n",
    "            j = j + 1\n",
    "    return res\n",
    "        \n",
    "def heapSort(nums):\n",
    "    h = []\n",
    "    for num in nums:\n",
    "        heapq.heappush(h, num)\n",
    "    return [heapq.heappop(h) for i in range(len(h))]"
   ]
  },
  {
   "cell_type": "code",
   "execution_count": 2,
   "metadata": {},
   "outputs": [
    {
     "name": "stdout",
     "output_type": "stream",
     "text": [
      "[2, 4, 6, 6, 6, 8, 8, 9, 13, 16, 16, 18, 19, 19, 21, 22, 24, 25, 26, 30, 30, 31, 32, 32, 34, 35, 37, 38, 39, 43]\n",
      "[2, 4, 6, 6, 6, 8, 8, 9, 13, 16, 16, 18, 19, 19, 21, 22, 24, 25, 26, 30, 30, 31, 32, 32, 34, 35, 37, 38, 39, 43]\n",
      "[2, 4, 6, 6, 6, 8, 8, 9, 13, 16, 16, 18, 19, 19, 21, 22, 24, 25, 26, 30, 30, 31, 32, 32, 34, 35, 37, 38, 39, 43]\n"
     ]
    }
   ],
   "source": [
    "li = [24, 26, 2, 16, 32, 31, 25, 19, 30, 22, 37, 13, 32, 8, 18, 8, 6, 39, 16, 34, 38, 9, 19, 6, 4, 43, 21, 30, 35, 6]\n",
    "print(quickSort(li))\n",
    "print(mergeSort(li))\n",
    "print(heapSort(li))"
   ]
  },
  {
   "cell_type": "code",
   "execution_count": null,
   "metadata": {},
   "outputs": [],
   "source": []
  }
 ],
 "metadata": {
  "kernelspec": {
   "display_name": "Python 3",
   "language": "python",
   "name": "python3"
  },
  "language_info": {
   "codemirror_mode": {
    "name": "ipython",
    "version": 3
   },
   "file_extension": ".py",
   "mimetype": "text/x-python",
   "name": "python",
   "nbconvert_exporter": "python",
   "pygments_lexer": "ipython3",
   "version": "3.8.3"
  }
 },
 "nbformat": 4,
 "nbformat_minor": 4
}
