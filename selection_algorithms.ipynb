{
 "cells": [
  {
   "cell_type": "markdown",
   "metadata": {},
   "source": [
    "<h2>quickselect</h2>"
   ]
  },
  {
   "cell_type": "code",
   "execution_count": 1,
   "metadata": {},
   "outputs": [],
   "source": [
    "import random\n",
    "\n",
    "\n",
    "def quick_select(nums, k):\n",
    "    pivot = random.choice(nums)\n",
    "    left, equal, right = [], [], []\n",
    "    for num in nums:\n",
    "        if num < pivot:\n",
    "            left.append(num)\n",
    "        elif num > pivot:\n",
    "            right.append(num)\n",
    "        else:\n",
    "            equal.append(num)\n",
    "    len_right, len_equal = len(right), len(equal)\n",
    "    if k >= len_right + 1 and k <= len_right + len_equal:\n",
    "        return pivot\n",
    "    if k <= len_right:\n",
    "        return quick_select(right, k)\n",
    "    return quick_select(left, k - len_right - len_equal)"
   ]
  },
  {
   "cell_type": "code",
   "execution_count": 2,
   "metadata": {},
   "outputs": [
    {
     "name": "stdout",
     "output_type": "stream",
     "text": [
      "26\n"
     ]
    }
   ],
   "source": [
    "li = [24, 26, 2, 16, 32, 31, 25, 19, 30, 22, 37, 13, 32, 8, 18, 8, 6, 39, 16, 34, 38, 9, 19, 6, 4, 43, 21, 30, 35, 6]\n",
    "print(quick_select(li, 12))"
   ]
  },
  {
   "cell_type": "markdown",
   "metadata": {},
   "source": [
    "<h2>median of medians</h2>"
   ]
  },
  {
   "cell_type": "code",
   "execution_count": 3,
   "metadata": {},
   "outputs": [],
   "source": [
    "def find_median(numbers):\n",
    "    return sorted(numbers)[len(numbers)//2]\n",
    "\n",
    "def find_median_of_medians(numbers):\n",
    "    length, medians, index = len(numbers), [], 0\n",
    "    while index < length:\n",
    "        medians.append(find_median(numbers[index:index+5]))\n",
    "        index += 5\n",
    "    return find_median(medians)\n",
    "\n",
    "def median_of_medians_select(nums, k):\n",
    "    pivot = find_median_of_medians(nums)\n",
    "    left, equal, right = [], [], []\n",
    "    for num in nums:\n",
    "        if num < pivot:\n",
    "            left.append(num)\n",
    "        elif num > pivot:\n",
    "            right.append(num)\n",
    "        else:\n",
    "            equal.append(num)\n",
    "    len_right, len_equal = len(right), len(equal)\n",
    "    if k >= len_right + 1 and k <= len_right + len_equal:\n",
    "        return pivot\n",
    "    if k <= len_right:\n",
    "        return median_of_medians_select(right, k)\n",
    "    return median_of_medians_select(left, k - len_right - len_equal)"
   ]
  },
  {
   "cell_type": "code",
   "execution_count": 4,
   "metadata": {},
   "outputs": [
    {
     "name": "stdout",
     "output_type": "stream",
     "text": [
      "26\n"
     ]
    }
   ],
   "source": [
    "li = [24, 26, 2, 16, 32, 31, 25, 19, 30, 22, 37, 13, 32, 8, 18, 8, 6, 39, 16, 34, 38, 9, 19, 6, 4, 43, 21, 30, 35, 6]\n",
    "print(median_of_medians_select(li, 12))"
   ]
  },
  {
   "cell_type": "code",
   "execution_count": null,
   "metadata": {},
   "outputs": [],
   "source": []
  }
 ],
 "metadata": {
  "kernelspec": {
   "display_name": "Python 3",
   "language": "python",
   "name": "python3"
  },
  "language_info": {
   "codemirror_mode": {
    "name": "ipython",
    "version": 3
   },
   "file_extension": ".py",
   "mimetype": "text/x-python",
   "name": "python",
   "nbconvert_exporter": "python",
   "pygments_lexer": "ipython3",
   "version": "3.8.3"
  }
 },
 "nbformat": 4,
 "nbformat_minor": 4
}
